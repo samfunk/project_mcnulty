{
 "cells": [
  {
   "cell_type": "markdown",
   "metadata": {},
   "source": [
    "# Merge all data sets"
   ]
  },
  {
   "cell_type": "markdown",
   "metadata": {},
   "source": [
    "Earnings from yahoo.com, metrics from stockrow.com, and sector/industries from marketwatch.com"
   ]
  },
  {
   "cell_type": "code",
   "execution_count": 1,
   "metadata": {
    "collapsed": true
   },
   "outputs": [],
   "source": [
    "import pandas as pd\n",
    "import numpy as np\n",
    "import matplotlib.pyplot as plt\n",
    "from tickerlist import make_list\n",
    "import re\n",
    "import pickle\n",
    "import json"
   ]
  },
  {
   "cell_type": "markdown",
   "metadata": {},
   "source": [
    "## Clean sector and industry data set"
   ]
  },
  {
   "cell_type": "code",
   "execution_count": 2,
   "metadata": {
    "collapsed": true
   },
   "outputs": [],
   "source": [
    "sectors = {'consumer_discr': ['Computers/Consumer Electronics', 'Mixed Retailing', 'Home Goods Retail', 'Broadcasting', 'Restaurants', 'Tourism', 'Footwear', 'Automobiles', 'Toys & Games', 'Clothing Retail', 'Hotels', 'Auto & Commercial Vehicle Parts', 'Commercial Vehicles', 'Housewares', 'Specialty Retail', 'Clothing', 'Advertising/Marketing/Public Relations', 'Publishing', 'Gambling Industries', 'Residential Building Construction', 'Tires', 'Furniture'],\n",
    "           'conumser_staples': ['Personal Care Products/Appliances', 'Non-Alcoholic Beverages/Drinks', 'Tobacco', 'Drug Retail', 'Food Retail', 'Food Products', 'Nondurable Household Products', 'Alcoholic Beverages/Drinks'],\n",
    "           'energy': ['Major Oil & Gas', 'Oil & Gas Products/Services', 'Oil Extraction', 'Pipeline Transportation'],\n",
    "           'financials': ['Reinsurance', 'Major International Banks', 'Banking', 'Diversified Holding Companies', 'Consumer Finance', 'Life Insurance', 'Securities', 'Finance Companies', 'Non-Life Insurance', 'Investment Advisors', 'Full-Line Insurance', 'Accounting', 'Insurance Brokering', 'Savings Institutions'],\n",
    "           'health_care': ['Pharmaceuticals', 'Biotechnology', 'Medical Equipment/Supplies', 'Precision Products', 'Healthcare Provision', ],\n",
    "           'industrials': ['Aerospace Products/Parts', 'Railroads', 'Air Freight', 'Defense Equipment/Products', 'Mobile Machinery', 'Farming', 'Industrial Machinery', 'Passenger Airlines', 'Environment/Waste Management', 'Industrial Products', 'Building Materials/Products', 'Wholesalers', 'General Services', 'Transportation Services', 'Trucking', 'Technical Services', 'Employment/Training Services', 'Construction'],\n",
    "           'info_tech': ['Software', 'Internet/Online', 'Semiconductors', 'Networking', 'Computer Services', 'Diversified Business Services', 'Industrial Electronics'],\n",
    "           'materials': ['Chemicals', 'Paper/Pulp', 'Gold', 'Non-Ferrous Metals', 'Iron/Steel', 'Containers/Packaging'],\n",
    "           'real_estate': ['Specialty REITs', 'Retail REITs', 'Industrial/Office REITs', 'Healthcare REITs', 'Residential REITs', 'Hotel/Lodging REITs', 'Diversified REITs', 'Real Estate Developers'],\n",
    "           'telecomm': ['Wireless Telecommunications Services', 'Wired Telecommunications Services'],\n",
    "           'utilities': ['Electric Utilities', 'Multiutilities', 'Gas Utilities', 'Water Utilities']}"
   ]
  },
  {
   "cell_type": "markdown",
   "metadata": {},
   "source": [
    "### Replace marketwatch sectors with official GISC sectors"
   ]
  },
  {
   "cell_type": "code",
   "execution_count": 3,
   "metadata": {
    "collapsed": true
   },
   "outputs": [],
   "source": [
    "with open('/Users/samfunk/ds/metis/project_mcnulty/code/sector_industries.pkl', 'rb') as f:\n",
    "    sect_ind_dict = pickle.load(f)\n",
    "\n",
    "sector_industry_raw = pd.DataFrame.from_dict(sect_ind_dict, orient='index')\n",
    "sect_ind_df = pd.DataFrame(columns=['mw_sector', 'industry', 'true_sector'])\n",
    "\n",
    "for ticker in sector_industry_raw.index:\n",
    "    true_sector = [k for k,v in sectors.items() if sector_industry_raw.loc[ticker][1] in v]\n",
    "    for i in range(1,5):\n",
    "        sect_ind_df.loc['%s_%d' % (ticker, i)] = sector_industry_raw.loc[ticker].tolist() + true_sector"
   ]
  },
  {
   "cell_type": "code",
   "execution_count": 4,
   "metadata": {},
   "outputs": [
    {
     "data": {
      "text/plain": [
       "1984"
      ]
     },
     "execution_count": 4,
     "metadata": {},
     "output_type": "execute_result"
    }
   ],
   "source": [
    "len(sect_ind_df)"
   ]
  },
  {
   "cell_type": "code",
   "execution_count": 5,
   "metadata": {},
   "outputs": [
    {
     "data": {
      "text/plain": [
       "consumer_discr      392\n",
       "financials          340\n",
       "health_care         228\n",
       "industrials         212\n",
       "info_tech           208\n",
       "conumser_staples    148\n",
       "real_estate         128\n",
       "utilities           116\n",
       "energy              116\n",
       "materials            80\n",
       "telecomm             16\n",
       "Name: true_sector, dtype: int64"
      ]
     },
     "execution_count": 5,
     "metadata": {},
     "output_type": "execute_result"
    }
   ],
   "source": [
    "sect_ind_df.true_sector.value_counts()"
   ]
  },
  {
   "cell_type": "markdown",
   "metadata": {},
   "source": [
    "## Merge time"
   ]
  },
  {
   "cell_type": "code",
   "execution_count": 6,
   "metadata": {
    "collapsed": true
   },
   "outputs": [],
   "source": [
    "with open('/Users/samfunk/ds/metis/project_mcnulty/code/earnings_df.pkl', 'rb') as f :\n",
    "    earnings_df = pickle.load(f)\n",
    "\n",
    "with open('/Users/samfunk/ds/metis/project_mcnulty/code/metrics.pkl', 'rb') as f:\n",
    "    metrics_df = pickle.load(f)\n",
    "\n",
    "master = metrics_df.join(earnings_df, how='left')\n",
    "master = master.join(sect_ind_df, how='left')\n"
   ]
  },
  {
   "cell_type": "markdown",
   "metadata": {},
   "source": [
    "### Fill and remove various nans"
   ]
  },
  {
   "cell_type": "code",
   "execution_count": 7,
   "metadata": {},
   "outputs": [],
   "source": [
    "master = master.reset_index()\n",
    "master.rename(columns={'index': 'ticker_quarter'}, inplace=True)\n",
    "master['currentR'] = master['currentR'].fillna(1)\n",
    "master['payout'] = master['payout'].fillna(0)\n",
    "master.dropna(axis=0, inplace=True)"
   ]
  },
  {
   "cell_type": "markdown",
   "metadata": {},
   "source": [
    "## Segment various features"
   ]
  },
  {
   "cell_type": "markdown",
   "metadata": {},
   "source": [
    "### Dividends (payout ratio)"
   ]
  },
  {
   "cell_type": "code",
   "execution_count": 8,
   "metadata": {
    "collapsed": true
   },
   "outputs": [],
   "source": [
    "def divs(row):\n",
    "    if row['payout'] < 0:\n",
    "        return -1\n",
    "    elif row['payout'] == 0:\n",
    "        return 0\n",
    "    else:\n",
    "        return 1\n",
    "\n",
    "master['dividends'] = master.apply(lambda x: divs(x), axis=1)"
   ]
  },
  {
   "cell_type": "markdown",
   "metadata": {},
   "source": [
    "### Interest covereage (industry standard = 1.5)"
   ]
  },
  {
   "cell_type": "code",
   "execution_count": 9,
   "metadata": {
    "collapsed": true
   },
   "outputs": [],
   "source": [
    "def interest_coverage(row):\n",
    "    if row['interest'] <= 1.5:\n",
    "        return 0\n",
    "    else:\n",
    "        return 1\n",
    "\n",
    "master['interest_coverage'] = master.apply(lambda x: interest_coverage(x), axis=1)"
   ]
  },
  {
   "cell_type": "markdown",
   "metadata": {},
   "source": [
    "### Current ratio (industry standard < 1)"
   ]
  },
  {
   "cell_type": "code",
   "execution_count": 10,
   "metadata": {
    "collapsed": true
   },
   "outputs": [],
   "source": [
    "missing_currents = {'BRKB': 1.3,'GE': 2.16,'AXP': 1.96,'MET': 0.98,'SCHW': 0.33,'SPG': 0.27,'PRU': 1.19,'CI': 0.90,'AIG': 2.82,'DE': 2.12,'TRV': 0.40,'PLD': 1.14,'ALL': 0.45,'AFL': 0.40,'PSA': 1.11,'PGR': 1.00,'DLR': 0.77,'HCN': 1.53,'EQR': 0.26,'AVB': 0.92,'DFS': 1.53,'AMP': 2.58,'TROW': 3.36,'VTR': 0.92,'HIG': 4.35,'BXP': 2.96,'PFG': 2.66,'LNC': 3.24,'ESS': 0.70,'O': 0.61,'DHI': 7.22,'VNO': 6.28,'L': 0.52,'GGP': 1.58,'ETFC': 1.40,'HCP': 4.01,'MAA': 0.17,'UNM': 8.98,'CINF': 1.22,'LEN': 6.62,'X': 0.50,'ARE': 1.45,'RJF': 3.31,'SLG': 4.16,'DRE': 10.30,'UDR': 0.18,'EXR': 0.99,'RE': 2.00,'REG': 1.37,'FRT': 1.40,'WU': 0.29,'TMK': 0.32,'KIM': 2.57,'PHM': 4.27,'AIV': 0.18,'MAC': 0.68,'AIZ': 0.93,'NAVI': 34.22,\n",
    "}\n",
    "\n",
    "for x in master['ticker_quarter']:\n",
    "    ticker = re.search(r'([A-Z]*)', x)[1]\n",
    "    if ticker in missing_currents.keys():\n",
    "        master.loc[master['ticker_quarter'] == x, 'currentR'] = missing_currents[ticker]\n",
    "        \n",
    "def current_ratio(row):\n",
    "    if row['currentR'] < 1:\n",
    "        return 0\n",
    "    else:\n",
    "        return 1\n",
    "\n",
    "master['current_ratio'] = master.apply(lambda x: current_ratio(x), axis=1)"
   ]
  },
  {
   "cell_type": "markdown",
   "metadata": {},
   "source": [
    "### Debt to Equity ratio (industry standard = 2)"
   ]
  },
  {
   "cell_type": "code",
   "execution_count": 11,
   "metadata": {
    "collapsed": true
   },
   "outputs": [],
   "source": [
    "def debt_to_equity(row):\n",
    "    if row['debt_equity'] < 0:\n",
    "        return 0\n",
    "    elif row['debt_equity'] < 2:\n",
    "        return 1\n",
    "    else:\n",
    "        return 2\n",
    "\n",
    "master['debt_to_equity'] = master.apply(lambda x: debt_to_equity(x), axis=1)"
   ]
  },
  {
   "cell_type": "markdown",
   "metadata": {},
   "source": [
    "### Quality of income/earnings (industry standard ~ 1)"
   ]
  },
  {
   "cell_type": "code",
   "execution_count": 12,
   "metadata": {
    "collapsed": true
   },
   "outputs": [],
   "source": [
    "def income_quality(row):\n",
    "    if row['incomeQ'] < 1:\n",
    "        return 0\n",
    "    else:\n",
    "        return 1\n",
    "\n",
    "master['income_quality'] = master.apply(lambda x: income_quality(x), axis=1)"
   ]
  },
  {
   "cell_type": "markdown",
   "metadata": {},
   "source": [
    "### Research and Development as percentage of revenue (greater than or equal to 0)"
   ]
  },
  {
   "cell_type": "code",
   "execution_count": 13,
   "metadata": {
    "collapsed": true
   },
   "outputs": [],
   "source": [
    "def r_and_d(row):\n",
    "    if row['rd'] <= 0:\n",
    "        return 0\n",
    "    else:\n",
    "        return 1\n",
    "\n",
    "master['r_and_d'] = master.apply(lambda x: r_and_d(x), axis=1)"
   ]
  },
  {
   "cell_type": "markdown",
   "metadata": {},
   "source": [
    "### Continuous variables (Bookvalue/share, FCF/share, Cash/share)"
   ]
  },
  {
   "cell_type": "code",
   "execution_count": 14,
   "metadata": {
    "collapsed": true
   },
   "outputs": [],
   "source": [
    "master.loc[master['bookvalue'] < 0, 'bookvalue'] = master.loc[master['bookvalue'] < 0, 'bookvalue'].apply(lambda x: 0.01 / abs(x))\n",
    "\n",
    "master['log_bv'] = master['bookvalue'].apply(lambda x: np.log(x))"
   ]
  },
  {
   "cell_type": "code",
   "execution_count": 15,
   "metadata": {
    "collapsed": true
   },
   "outputs": [],
   "source": [
    "master.loc[master['fcf'] < 0, 'fcf'] = master.loc[master['fcf'] < 0, 'fcf'].apply(lambda x: 0.01 / abs(x))\n",
    "\n",
    "master['log_fcf'] = master['fcf'].apply(lambda x: np.log(x))"
   ]
  },
  {
   "cell_type": "code",
   "execution_count": 16,
   "metadata": {},
   "outputs": [
    {
     "data": {
      "text/plain": [
       "\"master['fcf/cash'] = master.fcf / master.cash\\nmaster['fcf/bookvalue'] = master.fcf / master.bookvalue\\nmaster['cash/bookvalue'] = master.cash / master.bookvalue\\nmaster['cash/fcf'] = master.cash / master.bookvalue\\nmaster['bookvalue/fcf'] = master.bookvalue / master.fcf\\nmaster['bookvalue/cash'] = master.bookvalue / master.cash\\n\\ninters = ['fcf/cash','fcf/bookvalue','cash/bookvalue','cash/fcf','bookvalue/fcf','bookvalue/cash']\""
      ]
     },
     "execution_count": 16,
     "metadata": {},
     "output_type": "execute_result"
    }
   ],
   "source": [
    "'''master['fcf/cash'] = master.fcf / master.cash\n",
    "master['fcf/bookvalue'] = master.fcf / master.bookvalue\n",
    "master['cash/bookvalue'] = master.cash / master.bookvalue\n",
    "master['cash/fcf'] = master.cash / master.bookvalue\n",
    "master['bookvalue/fcf'] = master.bookvalue / master.fcf\n",
    "master['bookvalue/cash'] = master.bookvalue / master.cash\n",
    "\n",
    "inters = ['fcf/cash','fcf/bookvalue','cash/bookvalue','cash/fcf','bookvalue/fcf','bookvalue/cash']'''"
   ]
  },
  {
   "cell_type": "markdown",
   "metadata": {},
   "source": [
    "### Save final/master df"
   ]
  },
  {
   "cell_type": "code",
   "execution_count": 17,
   "metadata": {
    "collapsed": true
   },
   "outputs": [],
   "source": [
    "with open('/Users/samfunk/ds/metis/project_mcnulty/code/master_df.pkl', 'wb') as f:\n",
    "    pickle.dump(master, f)"
   ]
  }
 ],
 "metadata": {
  "kernelspec": {
   "display_name": "Python [default]",
   "language": "python",
   "name": "python3"
  },
  "language_info": {
   "codemirror_mode": {
    "name": "ipython",
    "version": 3
   },
   "file_extension": ".py",
   "mimetype": "text/x-python",
   "name": "python",
   "nbconvert_exporter": "python",
   "pygments_lexer": "ipython3",
   "version": "3.6.2"
  }
 },
 "nbformat": 4,
 "nbformat_minor": 2
}
